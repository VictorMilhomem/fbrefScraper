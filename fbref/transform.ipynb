{
 "cells": [
  {
   "cell_type": "code",
   "execution_count": 1,
   "metadata": {},
   "outputs": [],
   "source": [
    "import os\n",
    "import pandas as pd"
   ]
  },
  {
   "cell_type": "code",
   "execution_count": 2,
   "metadata": {},
   "outputs": [],
   "source": [
    "def clean_std_stats(data):\n",
    "    data.drop(['Matches'], axis=1, inplace=True)\n",
    "    data['Nation'] = data['Nation'].str.replace(r'[a-z]+', '', regex=True)\n",
    "    data['Nation']= data['Nation'].str.strip()\n",
    "    data['Nation'].fillna('Unknow')\n",
    "\n",
    "    # drop total lines\n",
    "    data  = data[~data['Player'].str.contains('Squad Total')]\n",
    "    data  = data[~data['Player'].str.contains('Opponent Total')]\n",
    "\n",
    "    #cleaning age column\n",
    "    data['Age'] = data['Age'].str.replace(r'-[0-9]+', '', regex=True)\n",
    "    data['Age']= data['Age'].str.strip()\n",
    "    data['Age'] = pd.to_numeric(data['Age'], errors='coerce')\n",
    "    mean = data['Age'].mean()\n",
    "    data['Age'] = data['Age'].fillna(mean).astype(int)\n",
    "\n",
    "    if 'Playing Time_MP' in data.columns:\n",
    "        data = data.rename(columns={'Playing Time_MP': 'MP'})\n",
    "\n",
    "    data.iloc[:, 4:33] = data.iloc[:, 4:33].fillna(0)\n",
    "\n",
    "    return data\n",
    "\n",
    "def add_team_championship(data, team, championship):\n",
    "    data['Team'] = team\n",
    "    data['Championship'] = championship\n",
    "    data['Player_Team'] = data['Player'] + ' (' + data['Team'] + ')'\n",
    "    return data"
   ]
  },
  {
   "cell_type": "code",
   "execution_count": 3,
   "metadata": {},
   "outputs": [
    {
     "data": {
      "text/plain": [
       "'america-mg'"
      ]
     },
     "execution_count": 3,
     "metadata": {},
     "output_type": "execute_result"
    }
   ],
   "source": [
    "def directories(folder_path):\n",
    "    entries = os.listdir(folder_path)\n",
    "    directories = (entry for entry in entries if os.path.isdir(os.path.join(folder_path, entry)))\n",
    "    directory_names = list(directories)\n",
    "\n",
    "    return directory_names\n",
    "\n",
    "BASE_DIR = os.path.join('..', 'data')\n",
    "RAW_DIR = os.path.join(BASE_DIR, 'raw')\n",
    "SEASON_DIR = os.path.join(RAW_DIR, '2023')\n",
    "ENGINEERED_DIR = os.path.join(BASE_DIR, 'engineered')\n",
    "\n",
    "names = directories(SEASON_DIR)\n",
    "names[0].split('_')[0]"
   ]
  },
  {
   "cell_type": "code",
   "execution_count": 4,
   "metadata": {},
   "outputs": [],
   "source": [
    "def read_files(output_path, filename):\n",
    "    datas = []\n",
    "    teams = []\n",
    "    folders = directories(output_path)\n",
    "    for folder in folders:\n",
    "        team_folder = os.path.join(output_path, folder)\n",
    "        teams.append(folder.split('_')[0])\n",
    "\n",
    "        file_path = os.path.join(team_folder, filename)\n",
    "        df = pd.read_csv(file_path)\n",
    "        datas.append(df)\n",
    "    return datas, teams"
   ]
  },
  {
   "cell_type": "code",
   "execution_count": 5,
   "metadata": {},
   "outputs": [
    {
     "data": {
      "text/plain": [
       "['america-mg',\n",
       " 'athletico-pr',\n",
       " 'atletico-mg',\n",
       " 'bahia',\n",
       " 'botafogo',\n",
       " 'bragantino',\n",
       " 'corinthians',\n",
       " 'coritiba',\n",
       " 'cruzeiro',\n",
       " 'cuiaba',\n",
       " 'flamengo',\n",
       " 'fluminense',\n",
       " 'fortaleza',\n",
       " 'goias',\n",
       " 'gremio',\n",
       " 'internacional',\n",
       " 'palmeiras',\n",
       " 'santos',\n",
       " 'sao-paulo',\n",
       " 'vasco']"
      ]
     },
     "execution_count": 5,
     "metadata": {},
     "output_type": "execute_result"
    }
   ],
   "source": [
    "datas, teams = read_files(SEASON_DIR, 'squad_std_stats.csv')\n",
    "\n",
    "teams"
   ]
  },
  {
   "cell_type": "code",
   "execution_count": 6,
   "metadata": {},
   "outputs": [],
   "source": [
    "def transform(datas, teams, champ='Brasileiro'):\n",
    "    new_datas = []\n",
    "    for i in range(len(datas)):\n",
    "        data = datas[i]\n",
    "        team = teams[i]\n",
    "        data = clean_std_stats(data)\n",
    "        data = add_team_championship(data, team, champ)\n",
    "        new_datas.append(data)\n",
    "    return new_datas"
   ]
  },
  {
   "cell_type": "code",
   "execution_count": 7,
   "metadata": {},
   "outputs": [],
   "source": [
    "def concat_dfs(datas):\n",
    "    df_combined = pd.concat(datas, ignore_index=True)\n",
    "    return df_combined"
   ]
  },
  {
   "cell_type": "code",
   "execution_count": 8,
   "metadata": {},
   "outputs": [],
   "source": [
    "new = transform(datas, teams)\n",
    "std_stats_df = concat_dfs(new)"
   ]
  },
  {
   "cell_type": "code",
   "execution_count": 9,
   "metadata": {},
   "outputs": [],
   "source": [
    "championship_name = 'Brasileiro'\n",
    "filename = championship_name + '.csv'\n",
    "file = os.path.join(ENGINEERED_DIR, championship_name, filename)"
   ]
  },
  {
   "cell_type": "code",
   "execution_count": 10,
   "metadata": {},
   "outputs": [],
   "source": [
    "if not os.path.exists(ENGINEERED_DIR):\n",
    "    os.mkdir(ENGINEERED_DIR)\n",
    "\n",
    "std_stats_df.to_csv(file, index=False)"
   ]
  },
  {
   "cell_type": "code",
   "execution_count": 11,
   "metadata": {},
   "outputs": [
    {
     "name": "stderr",
     "output_type": "stream",
     "text": [
      "C:\\Users\\victo\\AppData\\Local\\Temp\\ipykernel_11176\\2313308899.py:3: FutureWarning: As the xlwt package is no longer maintained, the xlwt engine will be removed in a future version of pandas. This is the only engine in pandas that supports writing in the xls format. Install openpyxl and write to an xlsx file instead. You can set the option io.excel.xls.writer to 'xlwt' to silence this warning. While this option is deprecated and will also raise a warning, it can be globally set and the warning suppressed.\n",
      "  std_stats_df.to_excel(file, index=False)\n"
     ]
    }
   ],
   "source": [
    "filename = championship_name + '.xls'\n",
    "file = os.path.join(ENGINEERED_DIR, championship_name, filename)\n",
    "std_stats_df.to_excel(file, index=False)"
   ]
  },
  {
   "cell_type": "code",
   "execution_count": null,
   "metadata": {},
   "outputs": [],
   "source": []
  }
 ],
 "metadata": {
  "kernelspec": {
   "display_name": "base",
   "language": "python",
   "name": "python3"
  },
  "language_info": {
   "codemirror_mode": {
    "name": "ipython",
    "version": 3
   },
   "file_extension": ".py",
   "mimetype": "text/x-python",
   "name": "python",
   "nbconvert_exporter": "python",
   "pygments_lexer": "ipython3",
   "version": "3.11.5"
  }
 },
 "nbformat": 4,
 "nbformat_minor": 2
}
